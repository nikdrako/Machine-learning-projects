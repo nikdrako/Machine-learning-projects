{
  "nbformat": 4,
  "nbformat_minor": 0,
  "metadata": {
    "colab": {
      "provenance": [],
      "authorship_tag": "ABX9TyP3MAbvY41oQOcq720/8g4D",
      "include_colab_link": true
    },
    "kernelspec": {
      "name": "python3",
      "display_name": "Python 3"
    },
    "language_info": {
      "name": "python"
    }
  },
  "cells": [
    {
      "cell_type": "markdown",
      "metadata": {
        "id": "view-in-github",
        "colab_type": "text"
      },
      "source": [
        "<a href=\"https://colab.research.google.com/github/nikdrako/Machine-learning-projects/blob/main/Homework_15.ipynb\" target=\"_parent\"><img src=\"https://colab.research.google.com/assets/colab-badge.svg\" alt=\"Open In Colab\"/></a>"
      ]
    },
    {
      "cell_type": "code",
      "execution_count": null,
      "metadata": {
        "id": "u0NENkCA0gx2"
      },
      "outputs": [],
      "source": [
        "import numpy as np\n",
        "from tensorflow import keras\n",
        "import keras\n",
        "from keras import layers\n",
        "from keras import ops\n",
        "import tensorflow\n",
        "from keras.preprocessing.sequence import pad_sequences\n",
        "from tensorflow.keras.datasets import imdb\n",
        "from tensorflow.keras.models import Sequential\n",
        "from tensorflow.keras.layers import Conv2D, Dense, Flatten, MaxPooling2D, Dropout, Normalization, Input,Bidirectional,LSTM, Embedding,BatchNormalization,Conv1D,GlobalAveragePooling1D"
      ]
    },
    {
      "cell_type": "code",
      "source": [
        "max_words = 10000\n",
        "(x_train, y_train), (x_test, y_test) = imdb.load_data(num_words=max_words)"
      ],
      "metadata": {
        "id": "IZQl2n0f0lGZ",
        "colab": {
          "base_uri": "https://localhost:8080/"
        },
        "outputId": "be4285f1-4177-41ae-b7d9-4397b34fd1de"
      },
      "execution_count": null,
      "outputs": [
        {
          "output_type": "stream",
          "name": "stdout",
          "text": [
            "Downloading data from https://storage.googleapis.com/tensorflow/tf-keras-datasets/imdb.npz\n",
            "\u001b[1m17464789/17464789\u001b[0m \u001b[32m━━━━━━━━━━━━━━━━━━━━\u001b[0m\u001b[37m\u001b[0m \u001b[1m0s\u001b[0m 0us/step\n"
          ]
        }
      ]
    },
    {
      "cell_type": "code",
      "source": [
        "y_train = np.array(y_train, dtype=\"float32\")\n",
        "y_test = np.array(y_test, dtype=\"float32\")"
      ],
      "metadata": {
        "id": "ck8Mf4Wbm95I"
      },
      "execution_count": null,
      "outputs": []
    },
    {
      "cell_type": "code",
      "source": [
        "max_len = 500\n",
        "\n",
        "x_train = pad_sequences(x_train, maxlen=max_len, padding='post', truncating='post')\n",
        "x_test = pad_sequences(x_test, maxlen=max_len, padding='post', truncating='post')"
      ],
      "metadata": {
        "id": "em8xijkYmsXk"
      },
      "execution_count": null,
      "outputs": []
    },
    {
      "cell_type": "code",
      "source": [
        "model = keras.Sequential([\n",
        "    Embedding(input_dim=max_words, output_dim=256, input_length=max_len),\n",
        "    Bidirectional(LSTM(64, return_sequences=True)),\n",
        "    BatchNormalization(),\n",
        "    Dropout(0.3),\n",
        "    Bidirectional(LSTM(32)),\n",
        "    BatchNormalization(),\n",
        "    Dropout(0.2),\n",
        "    Dense(32, activation='relu', kernel_regularizer=keras.regularizers.l2(0.01)),\n",
        "    Dense(1, activation='sigmoid')\n",
        "])"
      ],
      "metadata": {
        "id": "RoqxMQ-80uaT"
      },
      "execution_count": null,
      "outputs": []
    },
    {
      "cell_type": "code",
      "source": [
        "model.compile( # embedding, Bidirectional and Dropout(0.2,0.1) and 2 dense layers\n",
        "    loss=keras.losses.BinaryCrossentropy(),\n",
        "    optimizer='Adam',\n",
        "    metrics=[\"accuracy\"],\n",
        ")\n",
        "\n",
        "history = model.fit(x_train, y_train, epochs=8, validation_split=0.2, verbose = 2)\n",
        "\n",
        "test_scores = model.evaluate(x_test, y_test, verbose=2)\n",
        "print(\"Test loss:\", test_scores[0])\n",
        "print(\"Test accuracy:\", test_scores[1])"
      ],
      "metadata": {
        "colab": {
          "base_uri": "https://localhost:8080/"
        },
        "id": "3Yuryb9m03SR",
        "outputId": "6b22d5a1-d271-4e4a-d874-dfc879064478"
      },
      "execution_count": null,
      "outputs": [
        {
          "output_type": "stream",
          "name": "stdout",
          "text": [
            "Epoch 1/8\n",
            "625/625 - 45s - 71ms/step - accuracy: 0.7331 - loss: 0.5276 - val_accuracy: 0.7922 - val_loss: 0.4632\n",
            "Epoch 2/8\n",
            "625/625 - 40s - 64ms/step - accuracy: 0.7904 - loss: 0.4638 - val_accuracy: 0.6794 - val_loss: 0.5684\n",
            "Epoch 3/8\n",
            "625/625 - 41s - 65ms/step - accuracy: 0.8101 - loss: 0.4234 - val_accuracy: 0.8586 - val_loss: 0.3333\n",
            "Epoch 4/8\n",
            "625/625 - 40s - 63ms/step - accuracy: 0.9076 - loss: 0.2506 - val_accuracy: 0.8692 - val_loss: 0.3276\n",
            "Epoch 5/8\n",
            "625/625 - 41s - 66ms/step - accuracy: 0.9331 - loss: 0.1905 - val_accuracy: 0.8856 - val_loss: 0.3149\n",
            "Epoch 6/8\n",
            "625/625 - 42s - 68ms/step - accuracy: 0.9581 - loss: 0.1321 - val_accuracy: 0.8872 - val_loss: 0.3493\n",
            "Epoch 7/8\n",
            "625/625 - 40s - 64ms/step - accuracy: 0.9669 - loss: 0.1033 - val_accuracy: 0.8800 - val_loss: 0.3820\n",
            "Epoch 8/8\n",
            "625/625 - 39s - 62ms/step - accuracy: 0.9730 - loss: 0.0874 - val_accuracy: 0.8806 - val_loss: 0.4098\n",
            "782/782 - 19s - 24ms/step - accuracy: 0.8622 - loss: 0.4787\n",
            "Test loss: 0.47866714000701904\n",
            "Test accuracy: 0.8622400164604187\n"
          ]
        }
      ]
    },
    {
      "cell_type": "code",
      "source": [
        "model.compile( #додав BatchNormalization\n",
        "    loss=keras.losses.BinaryCrossentropy(),\n",
        "    optimizer='Adam',\n",
        "    metrics=[\"accuracy\"],\n",
        ")\n",
        "\n",
        "history = model.fit(x_train, y_train, epochs=8, validation_split=0.2, verbose = 2)\n",
        "\n",
        "test_scores = model.evaluate(x_test, y_test, verbose=2)\n",
        "print(\"Test loss:\", test_scores[0])\n",
        "print(\"Test accuracy:\", test_scores[1])#починає оверфітитись після 3 епохи, збільшую dropout в наступному"
      ],
      "metadata": {
        "colab": {
          "base_uri": "https://localhost:8080/"
        },
        "id": "4BgI0tNHvv7x",
        "outputId": "c0e8e12c-c8c2-459d-ab84-312ce8a3cee6"
      },
      "execution_count": null,
      "outputs": [
        {
          "output_type": "stream",
          "name": "stdout",
          "text": [
            "Epoch 1/8\n",
            "625/625 - 46s - 74ms/step - accuracy: 0.7537 - loss: 0.4891 - val_accuracy: 0.7528 - val_loss: 0.4950\n",
            "Epoch 2/8\n",
            "625/625 - 40s - 65ms/step - accuracy: 0.8872 - loss: 0.2801 - val_accuracy: 0.7950 - val_loss: 0.4442\n",
            "Epoch 3/8\n",
            "625/625 - 40s - 65ms/step - accuracy: 0.9303 - loss: 0.1788 - val_accuracy: 0.8912 - val_loss: 0.2830\n",
            "Epoch 4/8\n",
            "625/625 - 42s - 68ms/step - accuracy: 0.9546 - loss: 0.1195 - val_accuracy: 0.8740 - val_loss: 0.3460\n",
            "Epoch 5/8\n",
            "625/625 - 39s - 63ms/step - accuracy: 0.9687 - loss: 0.0832 - val_accuracy: 0.8790 - val_loss: 0.3682\n",
            "Epoch 6/8\n",
            "625/625 - 41s - 65ms/step - accuracy: 0.9800 - loss: 0.0603 - val_accuracy: 0.7992 - val_loss: 0.8408\n",
            "Epoch 7/8\n",
            "625/625 - 41s - 66ms/step - accuracy: 0.9826 - loss: 0.0491 - val_accuracy: 0.8578 - val_loss: 0.5973\n",
            "Epoch 8/8\n",
            "625/625 - 39s - 63ms/step - accuracy: 0.9876 - loss: 0.0373 - val_accuracy: 0.8684 - val_loss: 0.6459\n",
            "782/782 - 19s - 25ms/step - accuracy: 0.8597 - loss: 0.6767\n",
            "Test loss: 0.676747739315033\n",
            "Test accuracy: 0.8596799969673157\n"
          ]
        }
      ]
    },
    {
      "cell_type": "code",
      "source": [
        "model.compile( #збільшив Dropout з 0.2-0.1 до 0.3-0.2\n",
        "    loss=keras.losses.BinaryCrossentropy(),\n",
        "    optimizer='Adam',\n",
        "    metrics=[\"accuracy\"],\n",
        ")\n",
        "\n",
        "history = model.fit(x_train, y_train, epochs=8, validation_split=0.2, verbose = 2)\n",
        "\n",
        "test_scores = model.evaluate(x_test, y_test, verbose=2)\n",
        "print(\"Test loss:\", test_scores[0])\n",
        "print(\"Test accuracy:\", test_scores[1])#результати непогані, але якось дуже хаотичний лосс, збільшу  з output_dim=128 до 256 та пробую подолати оверфіт через регуляризацію"
      ],
      "metadata": {
        "colab": {
          "base_uri": "https://localhost:8080/"
        },
        "id": "hV4ehDG2xUIO",
        "outputId": "d2928d76-cc5f-4919-fa02-f94c2712db5e"
      },
      "execution_count": null,
      "outputs": [
        {
          "output_type": "stream",
          "name": "stdout",
          "text": [
            "Epoch 1/8\n",
            "625/625 - 44s - 71ms/step - accuracy: 0.7531 - loss: 0.4936 - val_accuracy: 0.8786 - val_loss: 0.3000\n",
            "Epoch 2/8\n",
            "625/625 - 40s - 64ms/step - accuracy: 0.9000 - loss: 0.2525 - val_accuracy: 0.8476 - val_loss: 0.3700\n",
            "Epoch 3/8\n",
            "625/625 - 40s - 64ms/step - accuracy: 0.9345 - loss: 0.1748 - val_accuracy: 0.8792 - val_loss: 0.3224\n",
            "Epoch 4/8\n",
            "625/625 - 41s - 66ms/step - accuracy: 0.9541 - loss: 0.1214 - val_accuracy: 0.7942 - val_loss: 0.7644\n",
            "Epoch 5/8\n",
            "625/625 - 39s - 63ms/step - accuracy: 0.9692 - loss: 0.0868 - val_accuracy: 0.8696 - val_loss: 0.4860\n",
            "Epoch 6/8\n",
            "625/625 - 40s - 65ms/step - accuracy: 0.9789 - loss: 0.0611 - val_accuracy: 0.8736 - val_loss: 0.4370\n",
            "Epoch 7/8\n",
            "625/625 - 41s - 65ms/step - accuracy: 0.9815 - loss: 0.0543 - val_accuracy: 0.8640 - val_loss: 0.6066\n",
            "Epoch 8/8\n",
            "625/625 - 39s - 63ms/step - accuracy: 0.9849 - loss: 0.0427 - val_accuracy: 0.8738 - val_loss: 0.5700\n",
            "782/782 - 19s - 25ms/step - accuracy: 0.8642 - loss: 0.6197\n",
            "Test loss: 0.6197079420089722\n",
            "Test accuracy: 0.8642399907112122\n"
          ]
        }
      ]
    },
    {
      "cell_type": "code",
      "source": [
        "model.compile( #3більшу output_dim = 128 до 256 та через оверфіт додаю регуляризацію\n",
        "    loss=keras.losses.BinaryCrossentropy(),\n",
        "    optimizer='Adam',\n",
        "    metrics=[\"accuracy\"],\n",
        ")\n",
        "\n",
        "history = model.fit(x_train, y_train, epochs=8, validation_split=0.2, verbose = 2)\n",
        "\n",
        "test_scores = model.evaluate(x_test, y_test, verbose=2)\n",
        "print(\"Test loss:\", test_scores[0])\n",
        "print(\"Test accuracy:\", test_scores[1])#регуляризація допомогла, лосс зменшився на 0.15"
      ],
      "metadata": {
        "colab": {
          "base_uri": "https://localhost:8080/"
        },
        "id": "FB5_z8fxyjr3",
        "outputId": "69b89f79-8c37-419d-fa53-8b75b0808cb4"
      },
      "execution_count": null,
      "outputs": [
        {
          "output_type": "stream",
          "name": "stdout",
          "text": [
            "Epoch 1/8\n",
            "625/625 - 47s - 75ms/step - accuracy: 0.7171 - loss: 0.7293 - val_accuracy: 0.8744 - val_loss: 0.3920\n",
            "Epoch 2/8\n",
            "625/625 - 42s - 67ms/step - accuracy: 0.8931 - loss: 0.3072 - val_accuracy: 0.8562 - val_loss: 0.3405\n",
            "Epoch 3/8\n",
            "625/625 - 81s - 129ms/step - accuracy: 0.9340 - loss: 0.1954 - val_accuracy: 0.8764 - val_loss: 0.3185\n",
            "Epoch 4/8\n",
            "625/625 - 41s - 66ms/step - accuracy: 0.9561 - loss: 0.1364 - val_accuracy: 0.8766 - val_loss: 0.3803\n",
            "Epoch 5/8\n",
            "625/625 - 83s - 133ms/step - accuracy: 0.9686 - loss: 0.1010 - val_accuracy: 0.8608 - val_loss: 0.4186\n",
            "Epoch 6/8\n",
            "625/625 - 81s - 130ms/step - accuracy: 0.9730 - loss: 0.0832 - val_accuracy: 0.8672 - val_loss: 0.4546\n",
            "Epoch 7/8\n",
            "625/625 - 41s - 65ms/step - accuracy: 0.9794 - loss: 0.0687 - val_accuracy: 0.8854 - val_loss: 0.4381\n",
            "Epoch 8/8\n",
            "625/625 - 41s - 66ms/step - accuracy: 0.9817 - loss: 0.0585 - val_accuracy: 0.8700 - val_loss: 0.4254\n",
            "782/782 - 19s - 24ms/step - accuracy: 0.8602 - loss: 0.4593\n",
            "Test loss: 0.4592956006526947\n",
            "Test accuracy: 0.8602399826049805\n"
          ]
        }
      ]
    },
    {
      "cell_type": "code",
      "source": [
        "model.compile( # не вказував раніше batch_size, зараз вказую на 32\n",
        "    loss=keras.losses.BinaryCrossentropy(),\n",
        "    optimizer='Adam',\n",
        "    metrics=[\"accuracy\"],\n",
        ")\n",
        "\n",
        "history = model.fit(x_train, y_train, epochs=8,  batch_size=32, validation_split=0.2, verbose = 2)\n",
        "\n",
        "test_scores = model.evaluate(x_test, y_test, verbose=2)\n",
        "print(\"Test loss:\", test_scores[0])\n",
        "print(\"Test accuracy:\", test_scores[1])"
      ],
      "metadata": {
        "colab": {
          "base_uri": "https://localhost:8080/"
        },
        "id": "qd1RhJyX5LJi",
        "outputId": "315423b7-f2c9-4a13-ff24-e3bf65af7b84"
      },
      "execution_count": null,
      "outputs": [
        {
          "output_type": "stream",
          "name": "stdout",
          "text": [
            "Epoch 1/8\n",
            "625/625 - 47s - 75ms/step - accuracy: 0.7275 - loss: 0.7087 - val_accuracy: 0.6838 - val_loss: 0.7929\n",
            "Epoch 2/8\n",
            "625/625 - 83s - 132ms/step - accuracy: 0.8855 - loss: 0.3270 - val_accuracy: 0.8764 - val_loss: 0.3235\n",
            "Epoch 3/8\n",
            "625/625 - 81s - 129ms/step - accuracy: 0.9190 - loss: 0.2276 - val_accuracy: 0.8574 - val_loss: 0.3603\n",
            "Epoch 4/8\n",
            "625/625 - 42s - 67ms/step - accuracy: 0.9466 - loss: 0.1613 - val_accuracy: 0.8866 - val_loss: 0.3121\n",
            "Epoch 5/8\n",
            "625/625 - 81s - 130ms/step - accuracy: 0.9599 - loss: 0.1214 - val_accuracy: 0.8544 - val_loss: 0.3410\n",
            "Epoch 6/8\n",
            "625/625 - 42s - 67ms/step - accuracy: 0.9693 - loss: 0.0934 - val_accuracy: 0.8704 - val_loss: 0.4013\n",
            "Epoch 7/8\n",
            "625/625 - 82s - 131ms/step - accuracy: 0.9765 - loss: 0.0754 - val_accuracy: 0.8734 - val_loss: 0.4270\n",
            "Epoch 8/8\n",
            "625/625 - 83s - 133ms/step - accuracy: 0.9837 - loss: 0.0584 - val_accuracy: 0.8786 - val_loss: 0.4702\n",
            "782/782 - 20s - 25ms/step - accuracy: 0.8699 - loss: 0.5148\n",
            "Test loss: 0.5147882699966431\n",
            "Test accuracy: 0.869920015335083\n"
          ]
        }
      ]
    },
    {
      "cell_type": "code",
      "source": [
        "model = keras.Sequential([\n",
        "    Embedding(input_dim=max_words, output_dim=128),\n",
        "    Bidirectional(LSTM(64, return_sequences=True)),\n",
        "    Dropout(0.5),\n",
        "    Bidirectional(LSTM(32)),\n",
        "    Dropout(0.4),\n",
        "    Dense(32, activation='relu', kernel_regularizer=keras.regularizers.l2(0.01)),\n",
        "    Dense(1, activation='sigmoid')\n",
        "])\n",
        "model.compile(\n",
        "    loss=keras.losses.BinaryCrossentropy(),\n",
        "    optimizer='Adam',\n",
        "    metrics=[\"accuracy\"],\n",
        ")\n",
        "\n",
        "history = model.fit(x_train, y_train, batch_size = 32, epochs=8, validation_split=0.2, verbose = 2)\n",
        "\n",
        "test_scores = model.evaluate(x_test, y_test, verbose=2)\n",
        "print(\"Test loss:\", test_scores[0])\n",
        "print(\"Test accuracy:\", test_scores[1])"
      ],
      "metadata": {
        "colab": {
          "base_uri": "https://localhost:8080/"
        },
        "id": "6FhQspAQ9o1d",
        "outputId": "9116608a-561d-4c51-d38f-a74fc514734c"
      },
      "execution_count": null,
      "outputs": [
        {
          "output_type": "stream",
          "name": "stdout",
          "text": [
            "Epoch 1/8\n",
            "625/625 - 44s - 70ms/step - accuracy: 0.5178 - loss: 0.7463 - val_accuracy: 0.5112 - val_loss: 0.6949\n",
            "Epoch 2/8\n",
            "625/625 - 40s - 64ms/step - accuracy: 0.6364 - loss: 0.6404 - val_accuracy: 0.7486 - val_loss: 0.5343\n",
            "Epoch 3/8\n",
            "625/625 - 41s - 66ms/step - accuracy: 0.8186 - loss: 0.4349 - val_accuracy: 0.8564 - val_loss: 0.3662\n",
            "Epoch 4/8\n",
            "625/625 - 41s - 66ms/step - accuracy: 0.8656 - loss: 0.3404 - val_accuracy: 0.7912 - val_loss: 0.3891\n",
            "Epoch 5/8\n",
            "625/625 - 39s - 63ms/step - accuracy: 0.8982 - loss: 0.2755 - val_accuracy: 0.8742 - val_loss: 0.3339\n",
            "Epoch 6/8\n",
            "625/625 - 42s - 67ms/step - accuracy: 0.9139 - loss: 0.2430 - val_accuracy: 0.8754 - val_loss: 0.3160\n",
            "Epoch 7/8\n",
            "625/625 - 41s - 66ms/step - accuracy: 0.9373 - loss: 0.1941 - val_accuracy: 0.8830 - val_loss: 0.3192\n",
            "Epoch 8/8\n",
            "625/625 - 40s - 64ms/step - accuracy: 0.9475 - loss: 0.1652 - val_accuracy: 0.8890 - val_loss: 0.3120\n",
            "782/782 - 19s - 24ms/step - accuracy: 0.8686 - loss: 0.3473\n",
            "Test loss: 0.34729522466659546\n",
            "Test accuracy: 0.8686000108718872\n"
          ]
        }
      ]
    }
  ]
}